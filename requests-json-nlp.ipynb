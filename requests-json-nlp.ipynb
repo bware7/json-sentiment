{
 "cells": [
  {
   "cell_type": "markdown",
   "metadata": {},
   "source": [
    "# Web Mining and Applied NLP (44-620)\n",
    "\n",
    "## Requests, JSON, and NLP\n",
    "\n",
    "### Student Name: Bin Ware\n",
    "\n",
    "Perform the tasks described in the Markdown cells below.  When you have completed the assignment make sure your code cells have all been run (and have output beneath them) and ensure you have committed and pushed ALL of your changes to your assignment repository.\n",
    "\n",
    "Make sure you have [installed spaCy and its pipeline](https://spacy.io/usage#quickstart) and [spaCyTextBlob](https://spacy.io/universe/project/spacy-textblob)\n",
    "\n",
    "Every question that requires you to write code will have a code cell underneath it; you may either write your entire solution in that cell or write it in a python file (`.py`), then import and run the appropriate code to answer the question.\n",
    "\n",
    "This assignment requires that you write additional files (either JSON or pickle files); make sure to submit those files in your repository as well."
   ]
  },
  {
   "cell_type": "markdown",
   "metadata": {},
   "source": [
    "# Question 1"
   ]
  },
  {
   "cell_type": "markdown",
   "metadata": {},
   "source": [
    "1. The following code accesses the [lyrics.ovh](https://lyricsovh.docs.apiary.io/#reference/0/lyrics-of-a-song/search) public api, searches for the lyrics of a song, and stores it in a dictionary object.  Write the resulting json to a file (either a JSON file or a pickle file; you choose). You will read in the contents of this file for future questions so we do not need to frequently access the API."
   ]
  },
  {
   "cell_type": "code",
   "execution_count": null,
   "metadata": {},
   "outputs": [],
   "source": [
    "import requests\n",
    "import json\n",
    "\n",
    "# Make the API request and get the JSON data\n",
    "response = requests.get('https://api.lyrics.ovh/v1/They Might Be Giants/Birdhouse in your soul')\n",
    "result = response.json()\n",
    "\n",
    "# Write the JSON data to a file\n",
    "with open('lyrics.json', 'w') as file:\n",
    "    json.dump(result, file)"
   ]
  },
  {
   "cell_type": "markdown",
   "metadata": {},
   "source": [
    "# Question 2"
   ]
  },
  {
   "cell_type": "markdown",
   "metadata": {},
   "source": [
    "2. Read in the contents of your file.  Print the lyrics of the song (not the entire dictionary!) and use spaCyTextBlob to perform sentiment analysis on the lyrics.  Print the polarity score of the sentiment analysis.  Given that the range of the polarity score is `[-1.0,1.0]` which corresponds to how positive or negative the text in question is, do you think the lyrics have a more positive or negative connotaion?  Answer this question in a comment in your code cell."
   ]
  },
  {
   "cell_type": "code",
   "execution_count": null,
   "metadata": {},
   "outputs": [],
   "source": [
    "import json\n",
    "import spacy\n",
    "from spacytextblob.spacytextblob import SpacyTextBlob\n",
    "\n",
    "# Load the lyrics from the JSON file\n",
    "with open('your_lyrics_file.json', 'r') as file:\n",
    "    data = json.load(file)\n",
    "\n",
    "# Extract the lyrics\n",
    "lyrics = data.get('lyrics', '')\n",
    "print(\"Lyrics:\\n\", lyrics)\n",
    "\n",
    "# Load spaCy model and add spaCyTextBlob to the pipeline\n",
    "nlp = spacy.load('en_core_web_sm')\n",
    "if 'spacytextblob' not in nlp.pipe_names:\n",
    "    nlp.add_pipe('spacytextblob')\n",
    "\n",
    "# Perform sentiment analysis on the lyrics\n",
    "doc = nlp(lyrics)\n",
    "polarity_score = doc._.polarity\n",
    "print(\"\\nPolarity Score:\", polarity_score)\n",
    "\n",
    "# Interpret the polarity score\n",
    "if polarity_score > 0:\n",
    "    print(\"The lyrics have a positive connotation.\")\n",
    "elif polarity_score < 0:\n",
    "    print(\"The lyrics have a negative connotation.\")\n",
    "else:\n",
    "    print(\"The lyrics are neutral.\")\n"
   ]
  },
  {
   "cell_type": "markdown",
   "metadata": {},
   "source": [
    "# Question 3"
   ]
  },
  {
   "cell_type": "markdown",
   "metadata": {},
   "source": [
    "3. Write a function that takes an artist, song, and filename, accesses the lyrics.ovh api to get the song lyrics, and writes the results to the specified filename.  Test this function by getting the lyrics to any four songs of your choice and storing them in different files."
   ]
  },
  {
   "cell_type": "code",
   "execution_count": null,
   "metadata": {},
   "outputs": [],
   "source": [
    "import requests\n",
    "import json\n",
    "\n",
    "# Writing 8 songs to different files\n",
    "songs = [\n",
    "    {\"artist\": \"Bruno Mars\", \"title\": \"Just the Way You Are\"},\n",
    "    {\"artist\": \"The Weeknd\", \"title\": \"Blinding Lights\"},\n",
    "    {\"artist\": \"Michael Jackson\", \"title\": \"Man in the Mirror\"},\n",
    "    {\"artist\": \"Kanye West\", \"title\": \"Stronger\"}\n",
    "]\n",
    "\n",
    "base_url = \"https://api.lyrics.ovh/v1\"\n",
    "\n",
    "for song in songs:\n",
    "    artist = song[\"artist\"]\n",
    "    title = song[\"title\"]\n",
    "    try:\n",
    "        response = requests.get(f\"{base_url}/{artist}/{title}\")\n",
    "        response.raise_for_status()  \n",
    "        result = json.loads(response.text)\n",
    "\n",
    "        # Create a unique file name for each song\n",
    "        file_path = f\"{title.replace(' ', '_')}_lyrics.json\"\n",
    "\n",
    "        with open(file_path, 'w') as file:\n",
    "            json.dump(result, file, indent=4)\n",
    "\n",
    "        print(f\"Lyrics for '{title}' by {artist} have been written to {file_path}\")\n",
    "\n",
    "    except requests.exceptions.RequestException as e:\n",
    "        print(f\"Failed to fetch lyrics for '{title}' by {artist}: {e}\")\n"
   ]
  },
  {
   "cell_type": "markdown",
   "metadata": {},
   "source": [
    "# Question 4"
   ]
  },
  {
   "cell_type": "markdown",
   "metadata": {},
   "source": [
    "4. Write a function that takes the name of a file that contains song lyrics, loads the file, performs sentiment analysis, and returns the polarity score.  Use this function to print the polarity scores (with the name of the song) of the three files you created in question 3.  Does the reported polarity match your understanding of the song's lyrics? Why or why not do you think that might be?  Answer the questions in either a comment in the code cell or a markdown cell under the code cell."
   ]
  },
  {
   "cell_type": "code",
   "execution_count": null,
   "metadata": {},
   "outputs": [],
   "source": [
    "def get_lyrics_polarity(file_name):\n",
    "    with open(file_name, 'r') as file:\n",
    "        data = json.load(file)\n",
    "    \n",
    "    lyrics = data.get('lyrics')\n",
    "    if not lyrics:\n",
    "        print(f\"No lyrics found in {file_name}.\")\n",
    "        return None\n",
    "    \n",
    "    nlp = spacy.load(\"en_core_web_sm\")\n",
    "    if \"spacytextblob\" not in nlp.pipe_names:\n",
    "        nlp.add_pipe(\"spacytextblob\")\n",
    "    \n",
    "    doc = nlp(lyrics)\n",
    "    return doc._.polarity\n",
    "\n",
    "files = [\n",
    "    \"Just_the_Way_You_Are_lyrics.json\",\n",
    "    \"Blinding_Lights_lyrics.json\",\n",
    "    \"Man_in_the_Mirror_lyrics.json\",\n",
    "    \"Stronger_lyrics.json\"\n",
    "]\n",
    "print(\"Polarity Scores:\")\n",
    "for file in files:\n",
    "    polarity = get_lyrics_polarity(file)\n",
    "    song_name = file.replace(\"_lyrics.json\", \"\").replace(\"_\", \" \")\n",
    "    if polarity is not None:\n",
    "        print(f\"'{song_name}': {polarity}\")\n",
    "    else:\n",
    "        print(f\"Could not determine polarity for '{song_name}'.\")"
   ]
  }
 ],
 "metadata": {
  "kernelspec": {
   "display_name": "Python 3",
   "language": "python",
   "name": "python3"
  },
  "language_info": {
   "codemirror_mode": {
    "name": "ipython",
    "version": 3
   },
   "file_extension": ".py",
   "mimetype": "text/x-python",
   "name": "python",
   "nbconvert_exporter": "python",
   "pygments_lexer": "ipython3",
   "version": "3.9.4"
  }
 },
 "nbformat": 4,
 "nbformat_minor": 4
}
