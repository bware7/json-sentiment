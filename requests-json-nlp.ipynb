{
 "cells": [
  {
   "cell_type": "markdown",
   "metadata": {},
   "source": [
    "# Web Mining and Applied NLP (44-620)\n",
    "\n",
    "## Requests, JSON, and NLP\n",
    "\n",
    "### Student Name: Bin Ware\n",
    "\n",
    "Perform the tasks described in the Markdown cells below.  When you have completed the assignment make sure your code cells have all been run (and have output beneath them) and ensure you have committed and pushed ALL of your changes to your assignment repository.\n",
    "\n",
    "Make sure you have [installed spaCy and its pipeline](https://spacy.io/usage#quickstart) and [spaCyTextBlob](https://spacy.io/universe/project/spacy-textblob)\n",
    "\n",
    "Every question that requires you to write code will have a code cell underneath it; you may either write your entire solution in that cell or write it in a python file (`.py`), then import and run the appropriate code to answer the question.\n",
    "\n",
    "This assignment requires that you write additional files (either JSON or pickle files); make sure to submit those files in your repository as well."
   ]
  },
  {
   "cell_type": "markdown",
   "metadata": {},
   "source": [
    "# Question 1"
   ]
  },
  {
   "cell_type": "markdown",
   "metadata": {},
   "source": [
    "1. The following code accesses the [lyrics.ovh](https://lyricsovh.docs.apiary.io/#reference/0/lyrics-of-a-song/search) public api, searches for the lyrics of a song, and stores it in a dictionary object.  Write the resulting json to a file (either a JSON file or a pickle file; you choose). You will read in the contents of this file for future questions so we do not need to frequently access the API."
   ]
  },
  {
   "cell_type": "code",
   "execution_count": 50,
   "metadata": {},
   "outputs": [],
   "source": [
    "import requests\n",
    "import json\n",
    "\n",
    "# Make the API request and get the JSON data\n",
    "response = requests.get('https://api.lyrics.ovh/v1/They Might Be Giants/Birdhouse in your soul')\n",
    "result = response.json()\n",
    "\n",
    "# Write the JSON data to a file\n",
    "with open('lyrics.json', 'w') as file:\n",
    "    json.dump(result, file)"
   ]
  },
  {
   "cell_type": "markdown",
   "metadata": {},
   "source": [
    "# Question 2"
   ]
  },
  {
   "cell_type": "markdown",
   "metadata": {},
   "source": [
    "2. Read in the contents of your file.  Print the lyrics of the song (not the entire dictionary!) and use spaCyTextBlob to perform sentiment analysis on the lyrics.  Print the polarity score of the sentiment analysis.  Given that the range of the polarity score is `[-1.0,1.0]` which corresponds to how positive or negative the text in question is, do you think the lyrics have a more positive or negative connotaion?  Answer this question in a comment in your code cell."
   ]
  },
  {
   "cell_type": "code",
   "execution_count": 51,
   "metadata": {},
   "outputs": [
    {
     "name": "stdout",
     "output_type": "stream",
     "text": [
      "Lyrics:\n",
      " I'm your only friend \n",
      "I'm not your only friend \n",
      "But I'm a little glowing friend \n",
      "But really I'm not actually your friend \n",
      "But I am \n",
      "\n",
      "\n",
      "Blue canary in the outlet by the light switch \n",
      "\n",
      "Who watches over you \n",
      "\n",
      "Make a little birdhouse in your soul \n",
      "\n",
      "Not to put too fine a point on it \n",
      "\n",
      "Say I'm the only bee in your bonnet \n",
      "\n",
      "Make a little birdhouse in your soul \n",
      "\n",
      "\n",
      "\n",
      "I have a secret to tell \n",
      "\n",
      "From my electrical well \n",
      "\n",
      "It's a simple message and I'm leaving out the whistles and bells \n",
      "\n",
      "So the room must listen to me \n",
      "\n",
      "Filibuster vigilantly \n",
      "\n",
      "My name is blue canary one note* spelled l-i-t-e \n",
      "\n",
      "My story's infinite \n",
      "\n",
      "Like the Longines Symphonette it doesn't rest \n",
      "\n",
      "\n",
      "\n",
      "Blue canary in the outlet by the light switch \n",
      "\n",
      "Who watches over you \n",
      "\n",
      "Make a little birdhouse in your soul \n",
      "\n",
      "Not to put too fine a point on it \n",
      "\n",
      "Say I'm the only bee in your bonnet \n",
      "\n",
      "Make a little birdhouse in your soul \n",
      "\n",
      "\n",
      "\n",
      "I'm your only friend \n",
      "\n",
      "I'm not your only friend \n",
      "\n",
      "But I'm a little glowing friend \n",
      "\n",
      "But really I'm not actually your friend \n",
      "\n",
      "But I am \n",
      "\n",
      "\n",
      "\n",
      "There's a picture opposite me \n",
      "\n",
      "Of my primitive ancestry \n",
      "\n",
      "Which stood on rocky shores and kept the beaches shipwreck free \n",
      "\n",
      "Though I respect that a lot \n",
      "\n",
      "I'd be fired if that were my job \n",
      "\n",
      "After killing Jason off and countless screaming Argonauts \n",
      "\n",
      "Bluebird of friendliness \n",
      "\n",
      "Like guardian angels its always near \n",
      "\n",
      "\n",
      "\n",
      "Blue canary in the outlet by the light switch \n",
      "\n",
      "Who watches over you \n",
      "\n",
      "Make a little birdhouse in your soul \n",
      "\n",
      "Not to put too fine a point on it \n",
      "\n",
      "Say I'm the only bee in your bonnet \n",
      "\n",
      "Make a little birdhouse in your soul \n",
      "\n",
      "\n",
      "\n",
      "(and while you're at it \n",
      "\n",
      "Keep the nightlight on inside the \n",
      "\n",
      "Birdhouse in your soul) \n",
      "\n",
      "\n",
      "\n",
      "Not to put too fine a point on it \n",
      "\n",
      "Say I'm the only bee in your bonnet \n",
      "\n",
      "Make a little birdhouse in your soul \n",
      "\n",
      "\n",
      "\n",
      "Blue canary in the outlet by the light switch (and while you're at it) \n",
      "\n",
      "Who watches over you (keep the nightlight on inside the) \n",
      "\n",
      "Make a little birdhouse in your soul (birdhouse in your soul) \n",
      "\n",
      "\n",
      "\n",
      "Not to put too fine a point on it \n",
      "\n",
      "Say I'm the only bee in your bonnet \n",
      "\n",
      "Make a little birdhouse in your soul \n",
      "\n",
      "\n",
      "\n",
      "Blue canary in the outlet by the light switch (and while you're at it) \n",
      "\n",
      "Who watches over you (keep the nightlight on inside the) \n",
      "\n",
      "Make a little birdhouse in your soul (birdhouse in your soul) \n",
      "\n",
      "\n",
      "\n",
      "Not to put too fine a point on it \n",
      "\n",
      "Say I'm the only bee in your bonnet \n",
      "\n",
      "Make a little birdhouse in your soul\n"
     ]
    },
    {
     "ename": "TypeError",
     "evalue": "Underscore.get() takes 2 positional arguments but 3 were given",
     "output_type": "error",
     "traceback": [
      "\u001b[1;31m---------------------------------------------------------------------------\u001b[0m",
      "\u001b[1;31mTypeError\u001b[0m                                 Traceback (most recent call last)",
      "Cell \u001b[1;32mIn[51], line 20\u001b[0m\n\u001b[0;32m     18\u001b[0m \u001b[38;5;66;03m# Perform sentiment analysis on the lyrics\u001b[39;00m\n\u001b[0;32m     19\u001b[0m doc \u001b[38;5;241m=\u001b[39m nlp(lyrics)\n\u001b[1;32m---> 20\u001b[0m polarity_score \u001b[38;5;241m=\u001b[39m \u001b[43mdoc\u001b[49m\u001b[38;5;241;43m.\u001b[39;49m\u001b[43m_\u001b[49m\u001b[38;5;241;43m.\u001b[39;49m\u001b[43mpolarity\u001b[49m\n\u001b[0;32m     21\u001b[0m \u001b[38;5;28mprint\u001b[39m(\u001b[38;5;124m\"\u001b[39m\u001b[38;5;130;01m\\n\u001b[39;00m\u001b[38;5;124mPolarity Score:\u001b[39m\u001b[38;5;124m\"\u001b[39m, polarity_score)\n\u001b[0;32m     23\u001b[0m \u001b[38;5;66;03m# Interpret the polarity score\u001b[39;00m\n",
      "File \u001b[1;32mc:\\Users\\binya\\OneDrive\\Documents\\NorthWest\\44-620_Web_Mining\\Module 4\\json-sentiment\\.venv\\Lib\\site-packages\\spacy\\tokens\\underscore.py:51\u001b[0m, in \u001b[0;36mUnderscore.__getattr__\u001b[1;34m(self, name)\u001b[0m\n\u001b[0;32m     49\u001b[0m default, method, getter, setter \u001b[38;5;241m=\u001b[39m \u001b[38;5;28mself\u001b[39m\u001b[38;5;241m.\u001b[39m_extensions[name]\n\u001b[0;32m     50\u001b[0m \u001b[38;5;28;01mif\u001b[39;00m getter \u001b[38;5;129;01mis\u001b[39;00m \u001b[38;5;129;01mnot\u001b[39;00m \u001b[38;5;28;01mNone\u001b[39;00m:\n\u001b[1;32m---> 51\u001b[0m     \u001b[38;5;28;01mreturn\u001b[39;00m \u001b[43mgetter\u001b[49m\u001b[43m(\u001b[49m\u001b[38;5;28;43mself\u001b[39;49m\u001b[38;5;241;43m.\u001b[39;49m\u001b[43m_obj\u001b[49m\u001b[43m)\u001b[49m\n\u001b[0;32m     52\u001b[0m \u001b[38;5;28;01melif\u001b[39;00m method \u001b[38;5;129;01mis\u001b[39;00m \u001b[38;5;129;01mnot\u001b[39;00m \u001b[38;5;28;01mNone\u001b[39;00m:\n\u001b[0;32m     53\u001b[0m     method_partial \u001b[38;5;241m=\u001b[39m functools\u001b[38;5;241m.\u001b[39mpartial(method, \u001b[38;5;28mself\u001b[39m\u001b[38;5;241m.\u001b[39m_obj)\n",
      "Cell \u001b[1;32mIn[32], line 27\u001b[0m, in \u001b[0;36m<lambda>\u001b[1;34m(doc)\u001b[0m\n\u001b[0;32m     25\u001b[0m \u001b[38;5;66;03m# Manually register the polarity extension\u001b[39;00m\n\u001b[0;32m     26\u001b[0m \u001b[38;5;28;01mif\u001b[39;00m \u001b[38;5;129;01mnot\u001b[39;00m Doc\u001b[38;5;241m.\u001b[39mhas_extension(\u001b[38;5;124m\"\u001b[39m\u001b[38;5;124mpolarity\u001b[39m\u001b[38;5;124m\"\u001b[39m):\n\u001b[1;32m---> 27\u001b[0m     Doc\u001b[38;5;241m.\u001b[39mset_extension(\u001b[38;5;124m\"\u001b[39m\u001b[38;5;124mpolarity\u001b[39m\u001b[38;5;124m\"\u001b[39m, getter\u001b[38;5;241m=\u001b[39m\u001b[38;5;28;01mlambda\u001b[39;00m doc: \u001b[43mdoc\u001b[49m\u001b[38;5;241;43m.\u001b[39;49m\u001b[43m_\u001b[49m\u001b[38;5;241;43m.\u001b[39;49m\u001b[43mget\u001b[49m\u001b[43m(\u001b[49m\u001b[38;5;124;43m\"\u001b[39;49m\u001b[38;5;124;43mblob\u001b[39;49m\u001b[38;5;124;43m\"\u001b[39;49m\u001b[43m,\u001b[49m\u001b[43m \u001b[49m\u001b[43m{\u001b[49m\u001b[43m}\u001b[49m\u001b[43m)\u001b[49m\u001b[38;5;241m.\u001b[39mget(\u001b[38;5;124m\"\u001b[39m\u001b[38;5;124mpolarity\u001b[39m\u001b[38;5;124m\"\u001b[39m))\n\u001b[0;32m     29\u001b[0m \u001b[38;5;66;03m# Verify the pipeline\u001b[39;00m\n\u001b[0;32m     30\u001b[0m \u001b[38;5;28mprint\u001b[39m(\u001b[38;5;124m\"\u001b[39m\u001b[38;5;124mPipeline components:\u001b[39m\u001b[38;5;124m\"\u001b[39m, nlp\u001b[38;5;241m.\u001b[39mpipe_names)\n",
      "\u001b[1;31mTypeError\u001b[0m: Underscore.get() takes 2 positional arguments but 3 were given"
     ]
    }
   ],
   "source": [
    "import json\n",
    "import spacy\n",
    "from spacytextblob.spacytextblob import SpacyTextBlob\n",
    "\n",
    "# Load the lyrics from the JSON file\n",
    "with open('lyrics.json', 'r') as file:\n",
    "    data = json.load(file)\n",
    "\n",
    "# Extract the lyrics\n",
    "lyrics = data.get('lyrics', '')\n",
    "print(\"Lyrics:\\n\", lyrics)\n",
    "\n",
    "# Load spaCy model and add spaCyTextBlob to the pipeline\n",
    "nlp = spacy.load('en_core_web_sm')\n",
    "if 'spacytextblob' not in nlp.pipe_names:\n",
    "    nlp.add_pipe('spacytextblob')\n",
    "\n",
    "# Perform sentiment analysis on the lyrics\n",
    "doc = nlp(lyrics)\n",
    "polarity_score = doc._.polarity\n",
    "print(\"\\nPolarity Score:\", polarity_score)\n",
    "\n",
    "# Interpret the polarity score\n",
    "if polarity_score > 0:\n",
    "    print(\"The lyrics have a positive connotation.\")\n",
    "elif polarity_score < 0:\n",
    "    print(\"The lyrics have a negative connotation.\")\n",
    "else:\n",
    "    print(\"The lyrics are neutral.\")\n"
   ]
  },
  {
   "cell_type": "markdown",
   "metadata": {},
   "source": [
    "# Question 3"
   ]
  },
  {
   "cell_type": "markdown",
   "metadata": {},
   "source": [
    "3. Write a function that takes an artist, song, and filename, accesses the lyrics.ovh api to get the song lyrics, and writes the results to the specified filename.  Test this function by getting the lyrics to any four songs of your choice and storing them in different files."
   ]
  },
  {
   "cell_type": "code",
   "execution_count": null,
   "metadata": {},
   "outputs": [
    {
     "name": "stdout",
     "output_type": "stream",
     "text": [
      "Lyrics for 'Just the Way You Are' by Bruno Mars have been written to Just_the_Way_You_Are_lyrics.json\n",
      "Lyrics for 'Man in the Mirror' by Michael Jackson have been written to Man_in_the_Mirror_lyrics.json\n",
      "Lyrics for 'Stronger' by Kanye West have been written to Stronger_lyrics.json\n"
     ]
    }
   ],
   "source": [
    "import requests\n",
    "import json\n",
    "\n",
    "# Writing 8 songs to different files\n",
    "songs = [\n",
    "    {\"artist\": \"Bruno Mars\", \"title\": \"Just the Way You Are\"},\n",
    "    {\"artist\": \"Michael Jackson\", \"title\": \"Man in the Mirror\"},\n",
    "    {\"artist\": \"Kanye West\", \"title\": \"Stronger\"}\n",
    "]\n",
    "\n",
    "base_url = \"https://api.lyrics.ovh/v1\"\n",
    "\n",
    "for song in songs:\n",
    "    artist = song[\"artist\"]\n",
    "    title = song[\"title\"]\n",
    "    try:\n",
    "        response = requests.get(f\"{base_url}/{artist}/{title}\")\n",
    "        response.raise_for_status()  \n",
    "        result = json.loads(response.text)\n",
    "\n",
    "        # Create a unique file name for each song\n",
    "        file_path = f\"{title.replace(' ', '_')}_lyrics.json\"\n",
    "\n",
    "        with open(file_path, 'w') as file:\n",
    "            json.dump(result, file, indent=4)\n",
    "\n",
    "        print(f\"Lyrics for '{title}' by {artist} have been written to {file_path}\")\n",
    "\n",
    "    except requests.exceptions.RequestException as e:\n",
    "        print(f\"Failed to fetch lyrics for '{title}' by {artist}: {e}\")\n"
   ]
  },
  {
   "cell_type": "markdown",
   "metadata": {},
   "source": [
    "# Question 4"
   ]
  },
  {
   "cell_type": "markdown",
   "metadata": {},
   "source": [
    "4. Write a function that takes the name of a file that contains song lyrics, loads the file, performs sentiment analysis, and returns the polarity score.  Use this function to print the polarity scores (with the name of the song) of the three files you created in question 3.  Does the reported polarity match your understanding of the song's lyrics? Why or why not do you think that might be?  Answer the questions in either a comment in the code cell or a markdown cell under the code cell."
   ]
  },
  {
   "cell_type": "code",
   "execution_count": null,
   "metadata": {},
   "outputs": [
    {
     "name": "stdout",
     "output_type": "stream",
     "text": [
      "Polarity Scores:\n"
     ]
    },
    {
     "ename": "TypeError",
     "evalue": "Underscore.get() takes 2 positional arguments but 3 were given",
     "output_type": "error",
     "traceback": [
      "\u001b[1;31m---------------------------------------------------------------------------\u001b[0m",
      "\u001b[1;31mTypeError\u001b[0m                                 Traceback (most recent call last)",
      "Cell \u001b[1;32mIn[47], line 24\u001b[0m\n\u001b[0;32m     22\u001b[0m \u001b[38;5;28mprint\u001b[39m(\u001b[38;5;124m\"\u001b[39m\u001b[38;5;124mPolarity Scores:\u001b[39m\u001b[38;5;124m\"\u001b[39m)\n\u001b[0;32m     23\u001b[0m \u001b[38;5;28;01mfor\u001b[39;00m file \u001b[38;5;129;01min\u001b[39;00m files:\n\u001b[1;32m---> 24\u001b[0m     polarity \u001b[38;5;241m=\u001b[39m \u001b[43mget_lyrics_polarity\u001b[49m\u001b[43m(\u001b[49m\u001b[43mfile\u001b[49m\u001b[43m)\u001b[49m\n\u001b[0;32m     25\u001b[0m     song_name \u001b[38;5;241m=\u001b[39m file\u001b[38;5;241m.\u001b[39mreplace(\u001b[38;5;124m\"\u001b[39m\u001b[38;5;124m_lyrics.json\u001b[39m\u001b[38;5;124m\"\u001b[39m, \u001b[38;5;124m\"\u001b[39m\u001b[38;5;124m\"\u001b[39m)\u001b[38;5;241m.\u001b[39mreplace(\u001b[38;5;124m\"\u001b[39m\u001b[38;5;124m_\u001b[39m\u001b[38;5;124m\"\u001b[39m, \u001b[38;5;124m\"\u001b[39m\u001b[38;5;124m \u001b[39m\u001b[38;5;124m\"\u001b[39m)\n\u001b[0;32m     26\u001b[0m     \u001b[38;5;28;01mif\u001b[39;00m polarity \u001b[38;5;129;01mis\u001b[39;00m \u001b[38;5;129;01mnot\u001b[39;00m \u001b[38;5;28;01mNone\u001b[39;00m:\n",
      "Cell \u001b[1;32mIn[47], line 15\u001b[0m, in \u001b[0;36mget_lyrics_polarity\u001b[1;34m(file_name)\u001b[0m\n\u001b[0;32m     12\u001b[0m     nlp\u001b[38;5;241m.\u001b[39madd_pipe(\u001b[38;5;124m\"\u001b[39m\u001b[38;5;124mspacytextblob\u001b[39m\u001b[38;5;124m\"\u001b[39m)\n\u001b[0;32m     14\u001b[0m doc \u001b[38;5;241m=\u001b[39m nlp(lyrics)\n\u001b[1;32m---> 15\u001b[0m \u001b[38;5;28;01mreturn\u001b[39;00m \u001b[43mdoc\u001b[49m\u001b[38;5;241;43m.\u001b[39;49m\u001b[43m_\u001b[49m\u001b[38;5;241;43m.\u001b[39;49m\u001b[43mpolarity\u001b[49m\n",
      "File \u001b[1;32mc:\\Users\\binya\\OneDrive\\Documents\\NorthWest\\44-620_Web_Mining\\Module 4\\json-sentiment\\.venv\\Lib\\site-packages\\spacy\\tokens\\underscore.py:51\u001b[0m, in \u001b[0;36mUnderscore.__getattr__\u001b[1;34m(self, name)\u001b[0m\n\u001b[0;32m     49\u001b[0m default, method, getter, setter \u001b[38;5;241m=\u001b[39m \u001b[38;5;28mself\u001b[39m\u001b[38;5;241m.\u001b[39m_extensions[name]\n\u001b[0;32m     50\u001b[0m \u001b[38;5;28;01mif\u001b[39;00m getter \u001b[38;5;129;01mis\u001b[39;00m \u001b[38;5;129;01mnot\u001b[39;00m \u001b[38;5;28;01mNone\u001b[39;00m:\n\u001b[1;32m---> 51\u001b[0m     \u001b[38;5;28;01mreturn\u001b[39;00m \u001b[43mgetter\u001b[49m\u001b[43m(\u001b[49m\u001b[38;5;28;43mself\u001b[39;49m\u001b[38;5;241;43m.\u001b[39;49m\u001b[43m_obj\u001b[49m\u001b[43m)\u001b[49m\n\u001b[0;32m     52\u001b[0m \u001b[38;5;28;01melif\u001b[39;00m method \u001b[38;5;129;01mis\u001b[39;00m \u001b[38;5;129;01mnot\u001b[39;00m \u001b[38;5;28;01mNone\u001b[39;00m:\n\u001b[0;32m     53\u001b[0m     method_partial \u001b[38;5;241m=\u001b[39m functools\u001b[38;5;241m.\u001b[39mpartial(method, \u001b[38;5;28mself\u001b[39m\u001b[38;5;241m.\u001b[39m_obj)\n",
      "Cell \u001b[1;32mIn[32], line 27\u001b[0m, in \u001b[0;36m<lambda>\u001b[1;34m(doc)\u001b[0m\n\u001b[0;32m     25\u001b[0m \u001b[38;5;66;03m# Manually register the polarity extension\u001b[39;00m\n\u001b[0;32m     26\u001b[0m \u001b[38;5;28;01mif\u001b[39;00m \u001b[38;5;129;01mnot\u001b[39;00m Doc\u001b[38;5;241m.\u001b[39mhas_extension(\u001b[38;5;124m\"\u001b[39m\u001b[38;5;124mpolarity\u001b[39m\u001b[38;5;124m\"\u001b[39m):\n\u001b[1;32m---> 27\u001b[0m     Doc\u001b[38;5;241m.\u001b[39mset_extension(\u001b[38;5;124m\"\u001b[39m\u001b[38;5;124mpolarity\u001b[39m\u001b[38;5;124m\"\u001b[39m, getter\u001b[38;5;241m=\u001b[39m\u001b[38;5;28;01mlambda\u001b[39;00m doc: \u001b[43mdoc\u001b[49m\u001b[38;5;241;43m.\u001b[39;49m\u001b[43m_\u001b[49m\u001b[38;5;241;43m.\u001b[39;49m\u001b[43mget\u001b[49m\u001b[43m(\u001b[49m\u001b[38;5;124;43m\"\u001b[39;49m\u001b[38;5;124;43mblob\u001b[39;49m\u001b[38;5;124;43m\"\u001b[39;49m\u001b[43m,\u001b[49m\u001b[43m \u001b[49m\u001b[43m{\u001b[49m\u001b[43m}\u001b[49m\u001b[43m)\u001b[49m\u001b[38;5;241m.\u001b[39mget(\u001b[38;5;124m\"\u001b[39m\u001b[38;5;124mpolarity\u001b[39m\u001b[38;5;124m\"\u001b[39m))\n\u001b[0;32m     29\u001b[0m \u001b[38;5;66;03m# Verify the pipeline\u001b[39;00m\n\u001b[0;32m     30\u001b[0m \u001b[38;5;28mprint\u001b[39m(\u001b[38;5;124m\"\u001b[39m\u001b[38;5;124mPipeline components:\u001b[39m\u001b[38;5;124m\"\u001b[39m, nlp\u001b[38;5;241m.\u001b[39mpipe_names)\n",
      "\u001b[1;31mTypeError\u001b[0m: Underscore.get() takes 2 positional arguments but 3 were given"
     ]
    }
   ],
   "source": [
    "def get_lyrics_polarity(file_name):\n",
    "    with open(file_name, 'r') as file:\n",
    "        data = json.load(file)\n",
    "    \n",
    "    lyrics = data.get('lyrics')\n",
    "    if not lyrics:\n",
    "        print(f\"No lyrics found in {file_name}.\")\n",
    "        return None\n",
    "    \n",
    "    nlp = spacy.load(\"en_core_web_sm\")\n",
    "    if \"spacytextblob\" not in nlp.pipe_names:\n",
    "        nlp.add_pipe(\"spacytextblob\")\n",
    "    \n",
    "    doc = nlp(lyrics)\n",
    "    return doc._.polarity\n",
    "\n",
    "files = [\n",
    "    \"Just_the_Way_You_Are_lyrics.json\",\n",
    "    \"Man_in_the_Mirror_lyrics.json\",\n",
    "    \"Stronger_lyrics.json\"\n",
    "]\n",
    "print(\"Polarity Scores:\")\n",
    "for file in files:\n",
    "    polarity = get_lyrics_polarity(file)\n",
    "    song_name = file.replace(\"_lyrics.json\", \"\").replace(\"_\", \" \")\n",
    "    if polarity is not None:\n",
    "        print(f\"'{song_name}': {polarity}\")\n",
    "    else:\n",
    "        print(f\"Could not determine polarity for '{song_name}'.\")"
   ]
  }
 ],
 "metadata": {
  "kernelspec": {
   "display_name": ".venv",
   "language": "python",
   "name": "python3"
  },
  "language_info": {
   "codemirror_mode": {
    "name": "ipython",
    "version": 3
   },
   "file_extension": ".py",
   "mimetype": "text/x-python",
   "name": "python",
   "nbconvert_exporter": "python",
   "pygments_lexer": "ipython3",
   "version": "3.12.3"
  }
 },
 "nbformat": 4,
 "nbformat_minor": 4
}
